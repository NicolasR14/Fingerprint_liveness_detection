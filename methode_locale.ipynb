{
 "cells": [
  {
   "cell_type": "code",
   "execution_count": 16,
   "metadata": {},
   "outputs": [],
   "source": [
    "import os\n",
    "import cv2\n",
    "import numpy as np\n",
    "import matplotlib.pyplot as plt\n",
    "from sklearn.utils import shuffle\n",
    "from sklearn.model_selection import train_test_split\n",
    "from tensorflow.keras.utils import to_categorical\n",
    "\n",
    "def load_data (data_path):\n",
    "    data_dir_list = os.listdir(data_path)\n",
    "    labels=[]\n",
    "    data=[]\n",
    "    num_class=0\n",
    "\n",
    "    min_moy,min_var,min_max_diff,max_moy,max_var,max_max_diff=255,17000,255,0,0,0\n",
    "    for dataset in data_dir_list:\n",
    "        img_list=os.listdir(data_path+'/'+ dataset)    \n",
    "        for img in img_list:\n",
    "            \n",
    "            input_img=cv2.imread(data_path + '/'+ dataset + '/'+ img )\n",
    "            nb_pores,moyennes,variances,max_diff = extract_pores(input_img)\n",
    "            if (moyennes != []) and (variances != []) and (max_diff != []):\n",
    "                if min(moyennes)<min_moy:\n",
    "                    min_moy = min(moyennes)\n",
    "                if min(variances)<min_var:\n",
    "                    min_var = min(variances)\n",
    "                if min(max_diff)<min_max_diff:\n",
    "                    min_max_diff = min(max_diff)\n",
    "                if max(moyennes)>max_moy:\n",
    "                    max_moy = max(moyennes)\n",
    "                if max(variances)>max_var:\n",
    "                    max_var = max(variances)\n",
    "                if max(max_diff)>max_max_diff:\n",
    "                    max_max_diff = max(max_diff)\n",
    "                \n",
    "                data.append([nb_pores,moyennes,variances,max_diff])\n",
    "                labels.append(num_class)\n",
    "        num_class+=1\n",
    "    \n",
    "    print(min_moy,min_var,min_max_diff,max_moy,max_var,max_max_diff)\n",
    "    #normalisation des histogrammes\n",
    "    \n",
    "    norm_data=[] \n",
    "    for d in data:\n",
    "        new_d = np.array(d[0])\n",
    "        #moyennes de niveau de gris\n",
    "        \n",
    "        new_d = np.append(new_d,np.histogram(d[1],bins=15,range=(min_moy,max_moy))[0])\n",
    "        #variances de niveau de gris\n",
    "        new_d = np.append(new_d,np.histogram(d[2],bins=15,range=(min_var,max_var))[0])\n",
    "        #max différence de niveau de gris\n",
    "        new_d = np.append(new_d,np.histogram(d[3],bins=15,range=(min_max_diff,max_max_diff))[0])\n",
    "        norm_data.append(new_d)\n",
    "\n",
    "    norm_data = np.array(norm_data)\n",
    "    print(norm_data)\n",
    "    labels=np.array(labels)\n",
    "    print('data shape',norm_data.shape)\n",
    "    print('labels shape',labels.shape)\n",
    "    return norm_data, labels"
   ]
  },
  {
   "cell_type": "code",
   "execution_count": 17,
   "metadata": {},
   "outputs": [],
   "source": [
    "import math\n",
    "def extract_pores(img):\n",
    "    # (thresh, im_bw) = cv2.threshold(im, 128, 1, cv2.THRESH_BINARY | cv2.THRESH_OTSU)\n",
    "    thresh = 70\n",
    "    im_bw = cv2.threshold(img, thresh, 255, cv2.THRESH_BINARY)[1]\n",
    "\n",
    "    im_bw = abs(255-im_bw)\n",
    "\n",
    "    # Setup SimpleBlobDetector parameters.\n",
    "    params = cv2.SimpleBlobDetector_Params()\n",
    "\n",
    "    # Filter by Area.\n",
    "    params.filterByArea = True\n",
    "    params.minArea = 1\n",
    "    params.minDistBetweenBlobs = 1\n",
    "\n",
    "    # # Set up the detector with default parameters.\n",
    "    detector = cv2.SimpleBlobDetector_create(params)\n",
    "\n",
    "    # # Detect blobs.\n",
    "    keypoints = detector.detect(im_bw)\n",
    "\n",
    "    moyennes = []\n",
    "    variances = []\n",
    "    max_diff = []\n",
    "    \n",
    "    for kp in keypoints:\n",
    "        y,x = kp.pt\n",
    "        win_kp = img[int(x)-2:int(x)+3,int(y)-2:int(y)+3]\n",
    "        if math.isnan(np.mean(win_kp)):\n",
    "            continue\n",
    "        moyennes.append(np.mean(win_kp))\n",
    "        variances.append(np.var(win_kp))\n",
    "        max_diff.append(np.max(win_kp)-np.min(win_kp))\n",
    "\n",
    "    \n",
    "\n",
    "    moyennes = np.array(moyennes)\n",
    "    variances = np.array(variances)\n",
    "    max_diff = np.array(max_diff)\n",
    "\n",
    "    return len(keypoints),moyennes,variances,max_diff"
   ]
  },
  {
   "cell_type": "code",
   "execution_count": 18,
   "metadata": {},
   "outputs": [
    {
     "name": "stderr",
     "output_type": "stream",
     "text": [
      "C:\\Users\\nrozo\\AppData\\Local\\Temp\\ipykernel_6684\\2770068507.py:22: DeprecationWarning: elementwise comparison failed; this will raise an error in the future.\n",
      "  if (moyennes != []) and (variances != []) and (max_diff != []):\n",
      "C:\\Users\\nrozo\\AppData\\Local\\Temp\\ipykernel_6684\\2770068507.py:22: DeprecationWarning: The truth value of an empty array is ambiguous. Returning False, but in future this will result in an error. Use `array.size > 0` to check that an array is not empty.\n",
      "  if (moyennes != []) and (variances != []) and (max_diff != []):\n",
      "C:\\Users\\nrozo\\anaconda3\\envs\\sys809\\lib\\site-packages\\numpy\\core\\fromnumeric.py:3474: RuntimeWarning: Mean of empty slice.\n",
      "  return _methods._mean(a, axis=axis, dtype=dtype,\n",
      "C:\\Users\\nrozo\\anaconda3\\envs\\sys809\\lib\\site-packages\\numpy\\core\\_methods.py:189: RuntimeWarning: invalid value encountered in double_scalars\n",
      "  ret = ret.dtype.type(ret / rcount)\n"
     ]
    },
    {
     "name": "stdout",
     "output_type": "stream",
     "text": [
      "7.88 2.32 6 211.44 9499.3056 241\n",
      "[[ 223    0    3 ...   55   19    1]\n",
      " [ 175    0    2 ...   11    0    0]\n",
      " [  29    0    0 ...    0    0    0]\n",
      " ...\n",
      " [  43    0    0 ...    0    0    0]\n",
      " [  49    0    0 ...    0    0    0]\n",
      " [1457    0    0 ...    4    0    0]]\n",
      "data shape (1440, 46)\n",
      "labels shape (1440,)\n"
     ]
    }
   ],
   "source": [
    "data_path='Datasets\\Sagem_2011_merge'\n",
    "data, labels=load_data (data_path) \n",
    "\n",
    "num_classes=2\n",
    "Y = to_categorical(labels, num_classes)\n",
    "X_train,y_train = shuffle(data,Y, random_state=2)\n",
    "X_train, X_test, y_train , y_test = train_test_split(X_train,y_train, test_size=0.3, random_state=2)"
   ]
  },
  {
   "cell_type": "code",
   "execution_count": 19,
   "metadata": {},
   "outputs": [
    {
     "data": {
      "image/png": "[encoded data removed]",
      "text/plain": [
       "<Figure size 432x288 with 1 Axes>"
      ]
     },
     "metadata": {
      "needs_background": "light"
     },
     "output_type": "display_data"
    },
    {
     "name": "stdout",
     "output_type": "stream",
     "text": [
      "max score pour un nombre de 5 plus proches voisins : 0.7407407407407407\n"
     ]
    }
   ],
   "source": [
    "from sklearn.neighbors import KNeighborsClassifier\n",
    "import matplotlib.pyplot as plt \n",
    "\n",
    "kf = [i+1 for i in range(20)] # Préparation des valeurs de K dans une liste\n",
    "\n",
    "scoreTest= []\n",
    "\n",
    "for k in kf: # On itère sur les valeurs de K présentes dans Kf\n",
    "  knn = KNeighborsClassifier(n_neighbors=k) \n",
    "  knn.fit(X_train, y_train) # Entraînement du modèle\n",
    "  test_score = knn.score(X_test, y_test)\n",
    "  scoreTest.append(test_score) # Stockage du score de test pour k donné\n",
    "\n",
    "max_score_index = None\n",
    "knn_max_score = 0\n",
    "i = 1\n",
    "for k in scoreTest:\n",
    "    if (k > knn_max_score):\n",
    "        max_score_index = i\n",
    "        knn_max_score = k\n",
    "    i += 1\n",
    "\n",
    "x = kf\n",
    "y_Test = scoreTest\n",
    "plt.scatter(x, y_Test, label=\"Test\") \n",
    "plt.xlabel(\"Valeur de K\") \n",
    "plt.ylabel(\"Taux de classification\")\n",
    "plt.legend() \n",
    "plt.title(\"Résultats de classification pour l'algorithme KNN\")\n",
    "plt.show()\n",
    "\n",
    "print(\"max score pour un nombre de\", max_score_index, \"plus proches voisins :\",knn_max_score)"
   ]
  },
  {
   "cell_type": "code",
   "execution_count": 20,
   "metadata": {},
   "outputs": [
    {
     "name": "stderr",
     "output_type": "stream",
     "text": [
      "C:\\Users\\nrozo\\AppData\\Local\\Temp\\ipykernel_6684\\2770068507.py:22: DeprecationWarning: elementwise comparison failed; this will raise an error in the future.\n",
      "  if (moyennes != []) and (variances != []) and (max_diff != []):\n",
      "C:\\Users\\nrozo\\AppData\\Local\\Temp\\ipykernel_6684\\2770068507.py:22: DeprecationWarning: The truth value of an empty array is ambiguous. Returning False, but in future this will result in an error. Use `array.size > 0` to check that an array is not empty.\n",
      "  if (moyennes != []) and (variances != []) and (max_diff != []):\n"
     ]
    },
    {
     "name": "stdout",
     "output_type": "stream",
     "text": [
      "20.36 2.2655999999999996 6 216.08 5969.321600000001 235\n",
      "[[ 21   0   0 ...   0   0   0]\n",
      " [ 28   0   0 ...   0   0   0]\n",
      " [194   0   0 ...   0   0   0]\n",
      " ...\n",
      " [305   0  12 ...   0   0   0]\n",
      " [223   1   9 ...   0   0   0]\n",
      " [312   0  12 ...   0   0   0]]\n",
      "data shape (197, 46)\n",
      "labels shape (197,)\n"
     ]
    }
   ],
   "source": [
    "# #Pour classification d'une attaque non entrainée\n",
    "# data_test_path='Datasets\\Sagem_2011_only_gelatin'\n",
    "# data_test, labels_test=load_data (data_test_path)\n",
    "\n"
   ]
  },
  {
   "cell_type": "code",
   "execution_count": 22,
   "metadata": {},
   "outputs": [
    {
     "name": "stdout",
     "output_type": "stream",
     "text": [
      "score : 0.7258883248730964\n"
     ]
    }
   ],
   "source": [
    "# scoreTest= []\n",
    "# predict = knn.predict(data_test)\n",
    "# count_spoof = 0\n",
    "# count_total = 0\n",
    "# for p in predict:\n",
    "#     if p[0]>p[1]:\n",
    "#         count_spoof +=1\n",
    "#     count_total += 1\n",
    "# print('score :',float(count_spoof)/float(count_total))"
   ]
  }
 ],
 "metadata": {
  "interpreter": {
   "hash": "14523e3bf10ac85e636a76b59476a630c1748b9d95bed78b8c681b4f0ed77a71"
  },
  "kernelspec": {
   "display_name": "Python 3.9.7 ('sys809')",
   "language": "python",
   "name": "python3"
  },
  "language_info": {
   "codemirror_mode": {
    "name": "ipython",
    "version": 3
   },
   "file_extension": ".py",
   "mimetype": "text/x-python",
   "name": "python",
   "nbconvert_exporter": "python",
   "pygments_lexer": "ipython3",
   "version": "3.9.7"
  },
  "orig_nbformat": 4
 },
 "nbformat": 4,
 "nbformat_minor": 2
}
